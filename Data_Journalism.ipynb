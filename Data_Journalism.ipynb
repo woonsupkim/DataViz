{
 "cells": [
  {
   "cell_type": "code",
   "execution_count": null,
   "metadata": {},
   "outputs": [],
   "source": [
    "import pandas as pd\n",
    "import numpy as np\n",
    "import matplotlib.pyplot as plt\n",
    "import plotly.graph_objects as go\n",
    "from datetime import datetime\n",
    "import seaborn as sns\n",
    "\n",
    "from sklearn.feature_extraction.text import TfidfVectorizer\n",
    "from sklearn.metrics.pairwise import cosine_similarity\n",
    "from sklearn.cluster import AgglomerativeClustering\n",
    "\n",
    "import warnings\n",
    "warnings.filterwarnings(\"ignore\")\n",
    "\n",
    "from IPython.core.interactiveshell import InteractiveShell\n",
    "InteractiveShell.ast_node_interactivity = 'all'\n",
    "\n",
    "pd.set_option('display.max_columns', None) "
   ]
  },
  {
   "cell_type": "code",
   "execution_count": null,
   "metadata": {},
   "outputs": [],
   "source": [
    "df = pd.read_csv('data.csv')"
   ]
  },
  {
   "cell_type": "code",
   "execution_count": null,
   "metadata": {},
   "outputs": [],
   "source": [
    "df = df.drop(columns=['Ended', 'Explore link'])\n",
    "df['Started'] = pd.to_datetime(df['Started'])"
   ]
  },
  {
   "cell_type": "code",
   "execution_count": null,
   "metadata": {},
   "outputs": [],
   "source": [
    "# Function to convert string to numeric\n",
    "def convert_to_number(s):\n",
    "    s = s.replace('+', '')  # Remove the '+' sign\n",
    "    if 'M' in s:\n",
    "        return int(float(s.replace('M', '')) * 1_000_000)\n",
    "    elif 'K' in s:\n",
    "        return int(float(s.replace('K', '')) * 1_000)\n",
    "    else:\n",
    "        return int(s)  # For plain numbers\n",
    "\n",
    "# Apply the function to the array\n",
    "numeric_data = np.array([convert_to_number(value) for value in df['Search volume']])\n",
    "\n",
    "# Output the result\n",
    "df['Search volume'] = numeric_data"
   ]
  },
  {
   "cell_type": "code",
   "execution_count": null,
   "metadata": {},
   "outputs": [],
   "source": [
    "# Combine the \"Trends\" and \"Trend breakdown\" columns for text analysis\n",
    "df['combined_text'] = df['Trends'] + \" \" + df['Trend breakdown'].fillna(\"\")\n",
    "\n",
    "# Vectorize the text data using TF-IDF\n",
    "vectorizer = TfidfVectorizer(stop_words='english')\n",
    "tfidf_matrix = vectorizer.fit_transform(df['combined_text'])\n",
    "\n",
    "# Calculate cosine similarity\n",
    "cosine_sim = cosine_similarity(tfidf_matrix)\n",
    "\n",
    "# Use Agglomerative Clustering to group similar topics\n",
    "clustering_model = AgglomerativeClustering(n_clusters=None, distance_threshold=0.5, affinity='precomputed', linkage='average')\n",
    "clusters = clustering_model.fit_predict(1 - cosine_sim)  # 1 - cosine similarity to convert to distance\n",
    "\n",
    "# Add cluster labels to the dataset\n",
    "df['Cluster'] = clusters\n",
    "\n",
    "# Display the grouped data\n",
    "grouped_data = df[['Trends', 'Cluster']].sort_values(by='Cluster')"
   ]
  },
  {
   "cell_type": "code",
   "execution_count": null,
   "metadata": {},
   "outputs": [],
   "source": [
    "df.head()"
   ]
  },
  {
   "cell_type": "code",
   "execution_count": null,
   "metadata": {},
   "outputs": [],
   "source": [
    "# Group the data by the Cluster column to collect trends\n",
    "grouped_by_cluster = df.groupby('Cluster')['Trends'].apply(list).reset_index()\n",
    "grouped_by_cluster.columns = ['Cluster', 'Trends']\n",
    "\n",
    "# Group by cluster to calculate total search volume\n",
    "cluster_summary = df.groupby('Cluster')['Search volume'].sum().reset_index()\n",
    "cluster_summary.columns = ['Cluster', 'Total Search Volume']\n",
    "\n",
    "# Merge the two DataFrames on the Cluster column\n",
    "combined_df = pd.merge(grouped_by_cluster, cluster_summary, on='Cluster')\n",
    "combined_df"
   ]
  },
  {
   "cell_type": "code",
   "execution_count": null,
   "metadata": {},
   "outputs": [],
   "source": [
    "df_new = pd.merge(df, combined_df, on='Cluster', how = 'inner')\n",
    "df_new['Trends_y'] = df_new['Trends_y'].astype(str)\n",
    "#df_new\n",
    "len(df_new)"
   ]
  },
  {
   "cell_type": "code",
   "execution_count": null,
   "metadata": {},
   "outputs": [],
   "source": [
    "df_new.head()"
   ]
  },
  {
   "cell_type": "code",
   "execution_count": null,
   "metadata": {},
   "outputs": [],
   "source": [
    "df_new = df_new.drop_duplicates(subset=['Trends_y','Total Search Volume'])\n",
    "len(df_new)"
   ]
  },
  {
   "cell_type": "code",
   "execution_count": null,
   "metadata": {},
   "outputs": [],
   "source": [
    "df_new"
   ]
  },
  {
   "cell_type": "code",
   "execution_count": null,
   "metadata": {},
   "outputs": [],
   "source": [
    "from transformers import pipeline\n",
    "\n",
    "# Use a zero-shot classification pipeline\n",
    "classifier = pipeline(\"zero-shot-classification\", model=\"facebook/bart-large-mnli\")"
   ]
  },
  {
   "cell_type": "code",
   "execution_count": null,
   "metadata": {},
   "outputs": [],
   "source": [
    "categories = [\n",
    "    \"Technology and Science\",\n",
    "    \"Health and Wellness\",\n",
    "    \"Travel and Leisure\",\n",
    "    \"Food and Lifestyle\",\n",
    "    \"Education and Knowledge\",\n",
    "    \"Sports and Recreation\",\n",
    "    \"Finance and Business\",\n",
    "    \"Arts and Entertainment\",\n",
    "    \"Relationships and Society\",\n",
    "    \"Environment and Current Events\"\n",
    "]"
   ]
  },
  {
   "cell_type": "code",
   "execution_count": null,
   "metadata": {},
   "outputs": [],
   "source": [
    "#setting empty values for the columns\n",
    "index = -1\n",
    "for label in categories:\n",
    "    df[label] = -1\n",
    "\n",
    "for j in range(len(df)):\n",
    "    #counter for progress/debugging\n",
    "    index+=1\n",
    "    if(index%10 == 0): \n",
    "        print(index)\n",
    "        \n",
    "    #running the classifier on the column    \n",
    "    res = classifier(\n",
    "        df.iloc[j]['combined_text'],\n",
    "        candidate_labels = categories,\n",
    "        multi_label = True\n",
    "    )\n",
    "    #setting the column values according to the output from the classifier (\"_m\" = multiclass)\n",
    "    for i in range(len(res['labels'])):\n",
    "        df[res['labels'][i]].iloc[j] = res['scores'][i]"
   ]
  },
  {
   "cell_type": "code",
   "execution_count": null,
   "metadata": {},
   "outputs": [],
   "source": [
    "# df_demo['max'] = df_demo[['cost_m', 'efficient_m', 'effective_m', 'ease of use_m']].max(axis=1)"
   ]
  },
  {
   "cell_type": "code",
   "execution_count": null,
   "metadata": {},
   "outputs": [],
   "source": [
    "df['max'] = df.iloc[:,4:].max(axis=1)"
   ]
  },
  {
   "cell_type": "code",
   "execution_count": null,
   "metadata": {},
   "outputs": [],
   "source": [
    "len(df)\n",
    "len(df[df['max'] > 0.8])"
   ]
  },
  {
   "cell_type": "code",
   "execution_count": null,
   "metadata": {},
   "outputs": [],
   "source": [
    "df[df['max']>=0.8]"
   ]
  },
  {
   "cell_type": "code",
   "execution_count": null,
   "metadata": {},
   "outputs": [],
   "source": [
    "df.to_csv('pretrained.csv')"
   ]
  }
 ],
 "metadata": {
  "kernelspec": {
   "display_name": "Python 3",
   "language": "python",
   "name": "python3"
  },
  "language_info": {
   "codemirror_mode": {
    "name": "ipython",
    "version": 3
   },
   "file_extension": ".py",
   "mimetype": "text/x-python",
   "name": "python",
   "nbconvert_exporter": "python",
   "pygments_lexer": "ipython3",
   "version": "3.10.1"
  }
 },
 "nbformat": 4,
 "nbformat_minor": 2
}
