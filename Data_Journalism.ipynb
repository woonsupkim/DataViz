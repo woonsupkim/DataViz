{
 "cells": [
  {
   "cell_type": "code",
   "execution_count": 1,
   "metadata": {},
   "outputs": [],
   "source": [
    "import pandas as pd\n",
    "import numpy as np\n",
    "import matplotlib.pyplot as plt\n",
    "import plotly.graph_objects as go\n",
    "from datetime import datetime\n",
    "import seaborn as sns\n",
    "\n",
    "import warnings\n",
    "warnings.filterwarnings(\"ignore\")\n",
    "\n",
    "from IPython.core.interactiveshell import InteractiveShell\n",
    "InteractiveShell.ast_node_interactivity = 'all'\n",
    "\n",
    "pd.set_option('display.max_columns', None) "
   ]
  },
  {
   "cell_type": "code",
   "execution_count": 2,
   "metadata": {},
   "outputs": [],
   "source": [
    "df = pd.read_csv('data.csv')"
   ]
  },
  {
   "cell_type": "code",
   "execution_count": 3,
   "metadata": {},
   "outputs": [],
   "source": [
    "df = df.drop(columns=['Ended', 'Explore link'])\n",
    "df['Started'] = pd.to_datetime(df['Started'])"
   ]
  },
  {
   "cell_type": "code",
   "execution_count": 4,
   "metadata": {},
   "outputs": [],
   "source": [
    "# Function to convert string to numeric\n",
    "def convert_to_number(s):\n",
    "    s = s.replace('+', '')  # Remove the '+' sign\n",
    "    if 'M' in s:\n",
    "        return int(float(s.replace('M', '')) * 1_000_000)\n",
    "    elif 'K' in s:\n",
    "        return int(float(s.replace('K', '')) * 1_000)\n",
    "    else:\n",
    "        return int(s)  # For plain numbers\n",
    "\n",
    "# Apply the function to the array\n",
    "numeric_data = np.array([convert_to_number(value) for value in df['Search volume']])\n",
    "\n",
    "# Output the result\n",
    "df['Search volume'] = numeric_data"
   ]
  },
  {
   "cell_type": "code",
   "execution_count": 5,
   "metadata": {},
   "outputs": [
    {
     "data": {
      "text/html": [
       "<div>\n",
       "<style scoped>\n",
       "    .dataframe tbody tr th:only-of-type {\n",
       "        vertical-align: middle;\n",
       "    }\n",
       "\n",
       "    .dataframe tbody tr th {\n",
       "        vertical-align: top;\n",
       "    }\n",
       "\n",
       "    .dataframe thead th {\n",
       "        text-align: right;\n",
       "    }\n",
       "</style>\n",
       "<table border=\"1\" class=\"dataframe\">\n",
       "  <thead>\n",
       "    <tr style=\"text-align: right;\">\n",
       "      <th></th>\n",
       "      <th>Trends</th>\n",
       "      <th>Search volume</th>\n",
       "      <th>Started</th>\n",
       "      <th>Trend breakdown</th>\n",
       "    </tr>\n",
       "  </thead>\n",
       "  <tbody>\n",
       "    <tr>\n",
       "      <th>0</th>\n",
       "      <td>wicked book</td>\n",
       "      <td>2000000</td>\n",
       "      <td>2024-11-20 22:00:00+05:00</td>\n",
       "      <td>wicked book,elphaba,wicked musical,wicked trai...</td>\n",
       "    </tr>\n",
       "    <tr>\n",
       "      <th>1</th>\n",
       "      <td>moana 2</td>\n",
       "      <td>1000000</td>\n",
       "      <td>2024-11-22 07:20:00+05:00</td>\n",
       "      <td>moana 2,moana 2 release date,when does moana 2...</td>\n",
       "    </tr>\n",
       "    <tr>\n",
       "      <th>2</th>\n",
       "      <td>who won dancing with the stars 2024</td>\n",
       "      <td>1000000</td>\n",
       "      <td>2024-11-25 22:00:00+05:00</td>\n",
       "      <td>who won dancing with the stars 2024,dancing wi...</td>\n",
       "    </tr>\n",
       "    <tr>\n",
       "      <th>3</th>\n",
       "      <td>pam bondi</td>\n",
       "      <td>1000000</td>\n",
       "      <td>2024-11-21 13:40:00+05:00</td>\n",
       "      <td>pam bondi</td>\n",
       "    </tr>\n",
       "    <tr>\n",
       "      <th>4</th>\n",
       "      <td>lake effect snow warning</td>\n",
       "      <td>1000000</td>\n",
       "      <td>2024-11-27 12:20:00+05:00</td>\n",
       "      <td>lake effect snow warning,thanksgiving,thanksgi...</td>\n",
       "    </tr>\n",
       "  </tbody>\n",
       "</table>\n",
       "</div>"
      ],
      "text/plain": [
       "                                Trends  Search volume  \\\n",
       "0                          wicked book        2000000   \n",
       "1                              moana 2        1000000   \n",
       "2  who won dancing with the stars 2024        1000000   \n",
       "3                            pam bondi        1000000   \n",
       "4             lake effect snow warning        1000000   \n",
       "\n",
       "                    Started                                    Trend breakdown  \n",
       "0 2024-11-20 22:00:00+05:00  wicked book,elphaba,wicked musical,wicked trai...  \n",
       "1 2024-11-22 07:20:00+05:00  moana 2,moana 2 release date,when does moana 2...  \n",
       "2 2024-11-25 22:00:00+05:00  who won dancing with the stars 2024,dancing wi...  \n",
       "3 2024-11-21 13:40:00+05:00                                          pam bondi  \n",
       "4 2024-11-27 12:20:00+05:00  lake effect snow warning,thanksgiving,thanksgi...  "
      ]
     },
     "execution_count": 5,
     "metadata": {},
     "output_type": "execute_result"
    }
   ],
   "source": [
    "df.head()"
   ]
  },
  {
   "cell_type": "code",
   "execution_count": 6,
   "metadata": {},
   "outputs": [],
   "source": [
    "from transformers import pipeline\n",
    "\n",
    "# Use a zero-shot classification pipeline\n",
    "classifier = pipeline(\"zero-shot-classification\", model=\"facebook/bart-large-mnli\")"
   ]
  },
  {
   "cell_type": "code",
   "execution_count": 7,
   "metadata": {},
   "outputs": [],
   "source": [
    "categories = [\n",
    "    \"Technology and Science\",\n",
    "    \"Health and Wellness\",\n",
    "    \"Travel and Leisure\",\n",
    "    \"Food and Lifestyle\",\n",
    "    \"Education and Knowledge\",\n",
    "    \"Sports and Recreation\",\n",
    "    \"Finance and Business\",\n",
    "    \"Arts and Entertainment\",\n",
    "    \"Relationships and Society\",\n",
    "    \"Environment and Current Events\"\n",
    "]"
   ]
  },
  {
   "cell_type": "code",
   "execution_count": 8,
   "metadata": {},
   "outputs": [
    {
     "name": "stdout",
     "output_type": "stream",
     "text": [
      "0\n",
      "10\n",
      "20\n",
      "30\n",
      "40\n",
      "50\n",
      "60\n",
      "70\n",
      "80\n",
      "90\n",
      "100\n",
      "110\n",
      "120\n",
      "130\n"
     ]
    }
   ],
   "source": [
    "#setting empty values for the columns\n",
    "index = -1\n",
    "for label in categories:\n",
    "    df[label] = -1\n",
    "\n",
    "for j in range(len(df)):\n",
    "    #counter for progress/debugging\n",
    "    index+=1\n",
    "    if(index%10 == 0): \n",
    "        print(index)\n",
    "        \n",
    "    #running the classifier on the column    \n",
    "    res = classifier(\n",
    "        df.iloc[j]['Trends'],\n",
    "        candidate_labels = categories,\n",
    "        multi_label = True\n",
    "    )\n",
    "    #setting the column values according to the output from the classifier (\"_m\" = multiclass)\n",
    "    for i in range(len(res['labels'])):\n",
    "        df[res['labels'][i]].iloc[j] = res['scores'][i]"
   ]
  },
  {
   "cell_type": "code",
   "execution_count": 9,
   "metadata": {},
   "outputs": [],
   "source": [
    "# df_demo['max'] = df_demo[['cost_m', 'efficient_m', 'effective_m', 'ease of use_m']].max(axis=1)"
   ]
  },
  {
   "cell_type": "code",
   "execution_count": 10,
   "metadata": {},
   "outputs": [],
   "source": [
    "df['max'] = df.iloc[:,4:].max(axis=1)"
   ]
  },
  {
   "cell_type": "code",
   "execution_count": 11,
   "metadata": {},
   "outputs": [
    {
     "data": {
      "text/plain": [
       "138"
      ]
     },
     "execution_count": 11,
     "metadata": {},
     "output_type": "execute_result"
    },
    {
     "data": {
      "text/plain": [
       "27"
      ]
     },
     "execution_count": 11,
     "metadata": {},
     "output_type": "execute_result"
    }
   ],
   "source": [
    "len(df)\n",
    "len(df[df['max'] > 0.8])"
   ]
  },
  {
   "cell_type": "code",
   "execution_count": 12,
   "metadata": {},
   "outputs": [],
   "source": [
    "df.to_csv('pretrained.csv')"
   ]
  }
 ],
 "metadata": {
  "kernelspec": {
   "display_name": "Python 3",
   "language": "python",
   "name": "python3"
  },
  "language_info": {
   "codemirror_mode": {
    "name": "ipython",
    "version": 3
   },
   "file_extension": ".py",
   "mimetype": "text/x-python",
   "name": "python",
   "nbconvert_exporter": "python",
   "pygments_lexer": "ipython3",
   "version": "3.10.1"
  }
 },
 "nbformat": 4,
 "nbformat_minor": 2
}
